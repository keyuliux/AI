{
 "cells": [
  {
   "cell_type": "code",
   "execution_count": 1,
   "metadata": {},
   "outputs": [],
   "source": [
    "import cifar10,cifar10_input\n",
    "import tensorflow as tf\n",
    "import numpy as np\n",
    "import time"
   ]
  },
  {
   "cell_type": "code",
   "execution_count": 2,
   "metadata": {},
   "outputs": [],
   "source": [
    "max_steps = 3000\n",
    "batch_size = 128\n",
    "data_dir = '/tmp/cifar10_data/cifar-10-batches-bin'"
   ]
  },
  {
   "cell_type": "code",
   "execution_count": 3,
   "metadata": {},
   "outputs": [],
   "source": [
    "def variable_with_weight_lose(shape, stddev, w1):\n",
    "    var = tf.Variable(tf.truncated_normal(shape, stddev=stddev))\n",
    "    if w1 is not None:\n",
    "        weight_loss = tf.multiply(tf.nn.l2_loss(var), w1, name='weight_loss')\n",
    "        tf.add_to_collection('losses', weight_loss)\n",
    "    return var"
   ]
  },
  {
   "cell_type": "code",
   "execution_count": 4,
   "metadata": {},
   "outputs": [],
   "source": [
    "cifar10.maybe_download_and_extract()"
   ]
  },
  {
   "cell_type": "code",
   "execution_count": 5,
   "metadata": {},
   "outputs": [
    {
     "name": "stdout",
     "output_type": "stream",
     "text": [
      "Filling queue with 20000 CIFAR images before starting to train. This will take a few minutes.\n"
     ]
    }
   ],
   "source": [
    "images_train, labels_train = cifar10_input.distorted_inputs(data_dir=data_dir,batch_size=batch_size)"
   ]
  },
  {
   "cell_type": "code",
   "execution_count": 6,
   "metadata": {},
   "outputs": [],
   "source": [
    "images_test, lables_test = cifar10_input.inputs(eval_data=True, data_dir=data_dir, batch_size=batch_size)"
   ]
  },
  {
   "cell_type": "code",
   "execution_count": 7,
   "metadata": {},
   "outputs": [],
   "source": [
    "image_holder = tf.placeholder(tf.float32, [batch_size, 24, 24, 3])\n",
    "label_holder = tf.placeholder(tf.int32, [batch_size])"
   ]
  },
  {
   "cell_type": "code",
   "execution_count": 8,
   "metadata": {},
   "outputs": [],
   "source": [
    "#setup first convolution layer\n",
    "weight1 = variable_with_weight_lose(shape=[5, 5, 3, 64], stddev=5e-2, w1=0.0)\n",
    "kernel1 = tf.nn.conv2d(image_holder, weight1, [1, 1, 1, 1], padding='SAME')\n",
    "bias1 = tf.Variable(tf.constant(0.0, shape=[64]))\n",
    "conv1 = tf.nn.relu(tf.nn.bias_add(kernel1, bias1))\n",
    "pool1 = tf.nn.max_pool(conv1, ksize=[1, 3, 3, 1], strides=[1, 2, 2, 1], padding='SAME')\n",
    "norm1 = tf.nn.lrn(pool1, 4, bias=1.0, alpha=0.001 / 9.0, beta=0.75)"
   ]
  },
  {
   "cell_type": "code",
   "execution_count": 9,
   "metadata": {},
   "outputs": [],
   "source": [
    "#setup sencond convolution layer\n",
    "weight2 = variable_with_weight_lose(shape=[5, 5, 64, 64], stddev=5e-2, w1=0.0)\n",
    "kernel2 = tf.nn.conv2d(norm1, weight2, [1, 1, 1, 1], padding='SAME')\n",
    "bias2 = tf.Variable(tf.constant(0.0, shape=[64]))\n",
    "conv2 = tf.nn.relu(tf.nn.bias_add(kernel2, bias2))\n",
    "norm2 = tf.nn.lrn(conv2, 4, bias=1.0, alpha=0.001 / 9.0, beta=0.75)\n",
    "pool2 = tf.nn.max_pool(norm2, ksize=[1, 3, 3, 1], strides=[1, 2, 2, 1], padding='SAME')"
   ]
  },
  {
   "cell_type": "code",
   "execution_count": 10,
   "metadata": {},
   "outputs": [],
   "source": [
    "#setup first full connection layer\n",
    "reshape = tf.reshape(pool2, [batch_size, -1])\n",
    "dim = reshape.get_shape()[1].value\n",
    "weight3 = variable_with_weight_lose(shape=[dim, 384], stddev=0.04, w1=0.004)\n",
    "bias3 = tf.Variable(tf.constant(0.1, shape=[384]))\n",
    "local3 = tf.nn.relu(tf.matmul(reshape, weight3) + bias3)"
   ]
  },
  {
   "cell_type": "code",
   "execution_count": 11,
   "metadata": {},
   "outputs": [],
   "source": [
    "#setup sencond full connection layer\n",
    "weight4 = variable_with_weight_lose(shape=[384, 192], stddev=0.04, w1=0.004)\n",
    "bias4 = tf.Variable(tf.constant(0.1, shape=[192]))\n",
    "local4 = tf.nn.relu(tf.matmul(local3, weight4) + bias4)"
   ]
  },
  {
   "cell_type": "code",
   "execution_count": 12,
   "metadata": {},
   "outputs": [],
   "source": [
    "#setup third full connection layer\n",
    "weight5 = variable_with_weight_lose(shape=[192, 10], stddev=1/192.0, w1=0.0)\n",
    "bias5 = tf.Variable(tf.constant(0.0, shape=[10]))\n",
    "logits = tf.nn.relu(tf.matmul(local4, weight5) + bias5)"
   ]
  },
  {
   "cell_type": "code",
   "execution_count": 13,
   "metadata": {},
   "outputs": [],
   "source": [
    "#define loss\n",
    "def loss(logits, labels):\n",
    "    labels = tf.cast(labels, tf.int64)\n",
    "    cross_entropy = tf.nn.sparse_softmax_cross_entropy_with_logits(logits=logits, labels=labels, \n",
    "                                                                   name='cross_entropy_per_example')\n",
    "    cross_entropy_mean = tf.reduce_mean(cross_entropy, name='cross_entropy')\n",
    "    tf.add_to_collection('losses', cross_entropy_mean)\n",
    "    return tf.add_n(tf.get_collection('losses'), name='total_loss')"
   ]
  },
  {
   "cell_type": "code",
   "execution_count": 14,
   "metadata": {},
   "outputs": [],
   "source": [
    "loss = loss(logits, label_holder)\n",
    "train_op = tf.train.AdamOptimizer(1e-3).minimize(loss)\n",
    "top_k_op = tf.nn.in_top_k(logits, label_holder, 1)"
   ]
  },
  {
   "cell_type": "code",
   "execution_count": 15,
   "metadata": {},
   "outputs": [],
   "source": [
    "sess = tf.InteractiveSession()\n",
    "tf.global_variables_initializer().run()"
   ]
  },
  {
   "cell_type": "code",
   "execution_count": 16,
   "metadata": {},
   "outputs": [
    {
     "data": {
      "text/plain": [
       "[<Thread(Thread-4, started daemon 140540297332480)>,\n",
       " <Thread(Thread-5, started daemon 140540288939776)>,\n",
       " <Thread(Thread-6, started daemon 140540280547072)>,\n",
       " <Thread(Thread-7, started daemon 140540272154368)>,\n",
       " <Thread(Thread-8, started daemon 140540188292864)>,\n",
       " <Thread(Thread-9, started daemon 140540179900160)>,\n",
       " <Thread(Thread-10, started daemon 140540171507456)>,\n",
       " <Thread(Thread-11, started daemon 140540163114752)>,\n",
       " <Thread(Thread-12, started daemon 140540154722048)>,\n",
       " <Thread(Thread-13, started daemon 140540146329344)>,\n",
       " <Thread(Thread-14, started daemon 140540137936640)>,\n",
       " <Thread(Thread-15, started daemon 140540054075136)>,\n",
       " <Thread(Thread-16, started daemon 140540045682432)>,\n",
       " <Thread(Thread-17, started daemon 140540037289728)>,\n",
       " <Thread(Thread-18, started daemon 140540028897024)>,\n",
       " <Thread(Thread-19, started daemon 140540020504320)>,\n",
       " <Thread(Thread-20, started daemon 140540012111616)>,\n",
       " <Thread(Thread-21, started daemon 140540003718912)>,\n",
       " <Thread(Thread-22, started daemon 140539785639680)>,\n",
       " <Thread(Thread-23, started daemon 140539777246976)>,\n",
       " <Thread(Thread-24, started daemon 140539768854272)>,\n",
       " <Thread(Thread-25, started daemon 140539760461568)>,\n",
       " <Thread(Thread-26, started daemon 140539752068864)>,\n",
       " <Thread(Thread-27, started daemon 140539743676160)>,\n",
       " <Thread(Thread-28, started daemon 140539735283456)>,\n",
       " <Thread(Thread-29, started daemon 140538040809216)>,\n",
       " <Thread(Thread-30, started daemon 140538032416512)>,\n",
       " <Thread(Thread-31, started daemon 140538024023808)>,\n",
       " <Thread(Thread-32, started daemon 140538015631104)>,\n",
       " <Thread(Thread-33, started daemon 140538007238400)>,\n",
       " <Thread(Thread-34, started daemon 140537998845696)>,\n",
       " <Thread(Thread-35, started daemon 140537990452992)>,\n",
       " <Thread(Thread-36, started daemon 140537982060288)>,\n",
       " <Thread(Thread-37, started daemon 140537973667584)>]"
      ]
     },
     "execution_count": 16,
     "metadata": {},
     "output_type": "execute_result"
    },
    {
     "name": "stdout",
     "output_type": "stream",
     "text": [
      "ERROR:tensorflow:Exception in QueueRunner: assertion failed: [Need value.shape >= size, got ] [32 32 3] [24 24 3]\n",
      "\t [[Node: random_crop/Assert/Assert = Assert[T=[DT_STRING, DT_INT32, DT_INT32], summarize=3, _device=\"/job:localhost/replica:0/task:0/cpu:0\"](random_crop/All/_21, random_crop/Assert/Assert/data_0, random_crop/Shape/_23, random_crop/size/_25)]]\n",
      "\t [[Node: StridedSlice/_39 = _Recv[client_terminated=false, recv_device=\"/job:localhost/replica:0/task:0/gpu:0\", send_device=\"/job:localhost/replica:0/task:0/cpu:0\", send_device_incarnation=1, tensor_name=\"edge_119_StridedSlice\", tensor_type=DT_UINT8, _device=\"/job:localhost/replica:0/task:0/gpu:0\"]()]]\n",
      "\n",
      "Caused by op 'random_crop/Assert/Assert', defined at:\n",
      "  File \"/usr/lib/python3.5/runpy.py\", line 184, in _run_module_as_main\n",
      "    \"__main__\", mod_spec)\n",
      "  File \"/usr/lib/python3.5/runpy.py\", line 85, in _run_code\n",
      "    exec(code, run_globals)\n",
      "  File \"/home/keyu/.local/lib/python3.5/site-packages/ipykernel_launcher.py\", line 16, in <module>\n",
      "    app.launch_new_instance()\n",
      "  File \"/home/keyu/.local/lib/python3.5/site-packages/traitlets/config/application.py\", line 658, in launch_instance\n",
      "    app.start()\n",
      "  File \"/home/keyu/.local/lib/python3.5/site-packages/ipykernel/kernelapp.py\", line 505, in start\n",
      "    self.io_loop.start()\n",
      "  File \"/home/keyu/.local/lib/python3.5/site-packages/tornado/platform/asyncio.py\", line 148, in start\n",
      "    self.asyncio_loop.run_forever()\n",
      "  File \"/usr/lib/python3.5/asyncio/base_events.py\", line 345, in run_forever\n",
      "    self._run_once()\n",
      "  File \"/usr/lib/python3.5/asyncio/base_events.py\", line 1312, in _run_once\n",
      "    handle._run()\n",
      "  File \"/usr/lib/python3.5/asyncio/events.py\", line 125, in _run\n",
      "    self._callback(*self._args)\n",
      "  File \"/home/keyu/.local/lib/python3.5/site-packages/tornado/ioloop.py\", line 690, in <lambda>\n",
      "    lambda f: self._run_callback(functools.partial(callback, future))\n",
      "  File \"/home/keyu/.local/lib/python3.5/site-packages/tornado/ioloop.py\", line 743, in _run_callback\n",
      "    ret = callback()\n",
      "  File \"/home/keyu/.local/lib/python3.5/site-packages/tornado/gen.py\", line 781, in inner\n",
      "    self.run()\n",
      "  File \"/home/keyu/.local/lib/python3.5/site-packages/tornado/gen.py\", line 742, in run\n",
      "    yielded = self.gen.send(value)\n",
      "  File \"/home/keyu/.local/lib/python3.5/site-packages/ipykernel/kernelbase.py\", line 365, in process_one\n",
      "    yield gen.maybe_future(dispatch(*args))\n",
      "  File \"/home/keyu/.local/lib/python3.5/site-packages/tornado/gen.py\", line 209, in wrapper\n",
      "    yielded = next(result)\n",
      "  File \"/home/keyu/.local/lib/python3.5/site-packages/ipykernel/kernelbase.py\", line 272, in dispatch_shell\n",
      "    yield gen.maybe_future(handler(stream, idents, msg))\n",
      "  File \"/home/keyu/.local/lib/python3.5/site-packages/tornado/gen.py\", line 209, in wrapper\n",
      "    yielded = next(result)\n",
      "  File \"/home/keyu/.local/lib/python3.5/site-packages/ipykernel/kernelbase.py\", line 542, in execute_request\n",
      "    user_expressions, allow_stdin,\n",
      "  File \"/home/keyu/.local/lib/python3.5/site-packages/tornado/gen.py\", line 209, in wrapper\n",
      "    yielded = next(result)\n",
      "  File \"/home/keyu/.local/lib/python3.5/site-packages/ipykernel/ipkernel.py\", line 294, in do_execute\n",
      "    res = shell.run_cell(code, store_history=store_history, silent=silent)\n",
      "  File \"/home/keyu/.local/lib/python3.5/site-packages/ipykernel/zmqshell.py\", line 536, in run_cell\n",
      "    return super(ZMQInteractiveShell, self).run_cell(*args, **kwargs)\n",
      "  File \"/home/keyu/.local/lib/python3.5/site-packages/IPython/core/interactiveshell.py\", line 2848, in run_cell\n",
      "    raw_cell, store_history, silent, shell_futures)\n",
      "  File \"/home/keyu/.local/lib/python3.5/site-packages/IPython/core/interactiveshell.py\", line 2874, in _run_cell\n",
      "    return runner(coro)\n",
      "  File \"/home/keyu/.local/lib/python3.5/site-packages/IPython/core/async_helpers.py\", line 67, in _pseudo_sync_runner\n",
      "    coro.send(None)\n",
      "  File \"/home/keyu/.local/lib/python3.5/site-packages/IPython/core/interactiveshell.py\", line 3049, in run_cell_async\n",
      "    interactivity=interactivity, compiler=compiler, result=result)\n",
      "  File \"/home/keyu/.local/lib/python3.5/site-packages/IPython/core/interactiveshell.py\", line 3214, in run_ast_nodes\n",
      "    if (yield from self.run_code(code, result)):\n",
      "  File \"/home/keyu/.local/lib/python3.5/site-packages/IPython/core/interactiveshell.py\", line 3296, in run_code\n",
      "    exec(code_obj, self.user_global_ns, self.user_ns)\n",
      "  File \"<ipython-input-5-f1bb31c23dd6>\", line 1, in <module>\n",
      "    images_train, labels_train = cifar10_input.distorted_inputs(data_dir=data_dir,batch_size=batch_size)\n",
      "  File \"/home/keyu/AI/tensorflow_practice/tf05_simple_cnn/02/cifar10_input.py\", line 171, in distorted_inputs\n",
      "    distorted_image = tf.random_crop(reshaped_image, [height, width, 3])\n",
      "  File \"/home/keyu/.local/lib/python3.5/site-packages/tensorflow/python/ops/random_ops.py\", line 314, in random_crop\n",
      "    [\"Need value.shape >= size, got \", shape, size])\n",
      "  File \"/home/keyu/.local/lib/python3.5/site-packages/tensorflow/python/ops/control_flow_ops.py\", line 140, in Assert\n",
      "    condition, data, summarize, name=\"Assert\")\n",
      "  File \"/home/keyu/.local/lib/python3.5/site-packages/tensorflow/python/ops/gen_logging_ops.py\", line 39, in _assert\n",
      "    summarize=summarize, name=name)\n",
      "  File \"/home/keyu/.local/lib/python3.5/site-packages/tensorflow/python/framework/op_def_library.py\", line 763, in apply_op\n",
      "    op_def=op_def)\n",
      "  File \"/home/keyu/.local/lib/python3.5/site-packages/tensorflow/python/framework/ops.py\", line 2395, in create_op\n",
      "    original_op=self._default_original_op, op_def=op_def)\n",
      "  File \"/home/keyu/.local/lib/python3.5/site-packages/tensorflow/python/framework/ops.py\", line 1264, in __init__\n",
      "    self._traceback = _extract_stack()\n",
      "\n",
      "InvalidArgumentError (see above for traceback): assertion failed: [Need value.shape >= size, got ] [32 32 3] [24 24 3]\n",
      "\t [[Node: random_crop/Assert/Assert = Assert[T=[DT_STRING, DT_INT32, DT_INT32], summarize=3, _device=\"/job:localhost/replica:0/task:0/cpu:0\"](random_crop/All/_21, random_crop/Assert/Assert/data_0, random_crop/Shape/_23, random_crop/size/_25)]]\n",
      "\t [[Node: StridedSlice/_39 = _Recv[client_terminated=false, recv_device=\"/job:localhost/replica:0/task:0/gpu:0\", send_device=\"/job:localhost/replica:0/task:0/cpu:0\", send_device_incarnation=1, tensor_name=\"edge_119_StridedSlice\", tensor_type=DT_UINT8, _device=\"/job:localhost/replica:0/task:0/gpu:0\"]()]]\n",
      "\n"
     ]
    }
   ],
   "source": [
    "tf.train.start_queue_runners()"
   ]
  },
  {
   "cell_type": "code",
   "execution_count": 27,
   "metadata": {},
   "outputs": [],
   "source": [
    "for step in range(max_steps):\n",
    "    start_time = time.time()\n",
    "    image_batch, label_batch = sess.run([images_train, labels_train])\n",
    "    _, loss_value = sess.run([train_op, loss],\n",
    "                             feed_dict={image_holder:image_batch, label_holder:label_batch})\n",
    "    duration = time.time() - start_time"
   ]
  },
  {
   "cell_type": "code",
   "execution_count": 1,
   "metadata": {},
   "outputs": [
    {
     "ename": "IndentationError",
     "evalue": "unexpected indent (<ipython-input-1-7270b3bd4ff5>, line 2)",
     "output_type": "error",
     "traceback": [
      "\u001b[0;36m  File \u001b[0;32m\"<ipython-input-1-7270b3bd4ff5>\"\u001b[0;36m, line \u001b[0;32m2\u001b[0m\n\u001b[0;31m    examples_per_sec = batch_size /duration\u001b[0m\n\u001b[0m    ^\u001b[0m\n\u001b[0;31mIndentationError\u001b[0m\u001b[0;31m:\u001b[0m unexpected indent\n"
     ]
    }
   ],
   "source": [
    "#if step % 10 == 0:\n",
    "    examples_per_sec = batch_size /duration\n",
    "    sec_per_bach = float(duration)\n",
    "    \n",
    "    format_str='(step %d, loss %.2f %.1f examples/sec;%.3f sec/batch)\n",
    "    print(format_str %(step, loss_value, expamples_per_sec, sec_per_batch))"
   ]
  },
  {
   "cell_type": "code",
   "execution_count": null,
   "metadata": {},
   "outputs": [],
   "source": [
    "num_examples = 10000\n",
    "import math\n",
    "num_iter = int(math.ceil(num_examples/batch_size))\n",
    "true_count = 0\n",
    "total_sample_count = num_iter * batch_size\n",
    "step = 0\n",
    "while step < num_iter:\n",
    "    image_batch, label_batch = sess.run(images_test, labels_test)\n",
    "    predictions = sess.run([top_k_op], feed_dict={image_holder:image_batch,\n",
    "                                                 label_holder:label_batch})\n",
    "    true_count += np.sum(predictions)\n",
    "    step +=1\n",
    "precision = true_count /total_sample_count\n",
    "print('precision @1 = %.3f' %precision)"
   ]
  }
 ],
 "metadata": {
  "kernelspec": {
   "display_name": "Python 3",
   "language": "python",
   "name": "python3"
  },
  "language_info": {
   "codemirror_mode": {
    "name": "ipython",
    "version": 3
   },
   "file_extension": ".py",
   "mimetype": "text/x-python",
   "name": "python",
   "nbconvert_exporter": "python",
   "pygments_lexer": "ipython3",
   "version": "3.5.2"
  }
 },
 "nbformat": 4,
 "nbformat_minor": 2
}
