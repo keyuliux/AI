{
 "cells": [
  {
   "cell_type": "code",
   "execution_count": 2,
   "metadata": {},
   "outputs": [],
   "source": [
    "from datetime import datetime\n",
    "import math\n",
    "import time\n",
    "import tensorflow as tf"
   ]
  },
  {
   "cell_type": "code",
   "execution_count": 3,
   "metadata": {},
   "outputs": [],
   "source": [
    "batch_size = 32\n",
    "num_batch = 100"
   ]
  },
  {
   "cell_type": "code",
   "execution_count": 6,
   "metadata": {},
   "outputs": [],
   "source": [
    "def print_activations(t):\n",
    "    print(t.op.name, \" \", t.get.shape().as_list())"
   ]
  },
  {
   "cell_type": "code",
   "execution_count": null,
   "metadata": {},
   "outputs": [],
   "source": [
    "def inference(images):\n",
    "    parameters = []\n",
    "    \n",
    "    with tf.name_scope('conv1') as scope:\n",
    "        kernel = tf.Variable()\n",
    "        conv = tf.nn.conv2d()\n",
    "        biases = tf.Variable()\n",
    "        bias = tf.nn.bias_add()\n",
    "        conv1 = tf.nn.relu()\n",
    "        print_activations(conv1)\n",
    "        parameters +=[kernel, biases]\n",
    "        \n",
    "        lrn1 = tf.nn.lrn()\n",
    "        pool1 = tf.nn.max_pool()\n",
    "        print_activations(pool1)\n",
    "        \n",
    "    with tf.name_scope('conv2') as scope:\n",
    "        kernel = tf.Variable()\n",
    "        conv = tf.nn.conv2d()\n",
    "        biases = tf.Variable()\n",
    "        bias = tf.nn.bias_add()\n",
    "        conv2 = tf.nn.relu()\n",
    "        print_activations(conv2)\n",
    "        parameters +=[kernel, biases]\n",
    "        \n",
    "        lrn2 = tf.nn.lrn()\n",
    "        pool2 = tf.nn.max_pool()\n",
    "        print_activations(pool2)\n",
    "\n",
    "    with tf.name_scope('conv3') as scope:\n",
    "        kernel = tf.Variable()\n",
    "        conv = tf.nn.conv2d()\n",
    "        biases = tf.Variable()\n",
    "        bias = tf.nn.bias_add()\n",
    "        conv3 = tf.nn.relu()\n",
    "        print_activations(conv3)\n",
    "        parameters +=[kernel, biases]\n",
    "        \n",
    "        lrn3 = tf.nn.lrn()\n",
    "        pool3 = tf.nn.max_pool()\n",
    "        print_activations(pool3)\n",
    "\n",
    "    with tf.name_scope('conv4') as scope:\n",
    "        kernel = tf.Variable()\n",
    "        conv = tf.nn.conv2d()\n",
    "        biases = tf.Variable()\n",
    "        bias = tf.nn.bias_add()\n",
    "        conv4 = tf.nn.relu()\n",
    "        print_activations(conv4)\n",
    "        parameters +=[kernel, biases]\n",
    "        \n",
    "        lrn4 = tf.nn.lrn()\n",
    "        pool4 = tf.nn.max_pool()\n",
    "        print_activations(pool4)  \n",
    "    \n",
    "    with tf.name_scope('conv5') as scope:\n",
    "        kernel = tf.Variable()\n",
    "        conv = tf.nn.conv2d()\n",
    "        biases = tf.Variable()\n",
    "        bias = tf.nn.bias_add()\n",
    "        conv5 = tf.nn.relu()\n",
    "        print_activations(conv5)\n",
    "        parameters +=[kernel, biases]\n",
    "        \n",
    "        lrn5 = tf.nn.lrn()\n",
    "        pool5 = tf.nn.max_pool()\n",
    "        print_activations(pool1)\n",
    "    #todo need define 3 full connection\n",
    "    return pool5, parameters"
   ]
  },
  {
   "cell_type": "code",
   "execution_count": null,
   "metadata": {},
   "outputs": [],
   "source": [
    "def time_tensorflow_run(session, target, info_string):\n",
    "    num_steps_burn_in = 10\n",
    "    total_duration = 0.0\n",
    "    total_duration_squared = 0.0\n",
    "    for i in range(num_batches + num_steps_burn_in):\n",
    "        start_time = time.time()\n",
    "        _ = session.run(target)\n",
    "        duration = time.time() - start_time\n",
    "        if i>= num_steps_burn_in:\n",
    "            if not i % 10:\n",
    "                print()\n",
    "            total_duration += duration\n",
    "            total_duration_squared += duration * duration\n",
    "    mn = total_duration /num_batches\n",
    "    vr = total_duration_squared /num_batches - mn*mn\n",
    "    sd = math.sqrt(vr)\n",
    "    print()"
   ]
  },
  {
   "cell_type": "code",
   "execution_count": null,
   "metadata": {},
   "outputs": [],
   "source": [
    "def run_benchmark():\n",
    "    with tf.Graph().as_default():\n",
    "        image_size = 224\n",
    "        images = tf.Variable()\n",
    "        pool5, parameters, inference(images)\n",
    "    init = tf.global_variables_initializer()\n",
    "    sess = tf.Session()\n",
    "    sess.run(init)\n",
    "    \n",
    "    time_tensorflow_run(ssess, pool5, \"forward\")\n",
    "    objective = tf.nn.l2_loss(pool5)\n",
    "    grad = tf.gradients(objective, parameters)\n",
    "    time_tensorflow_run(sess, grad, \"Forward-backward\")\n",
    "    \n",
    "    \n",
    "run_benchmark()"
   ]
  }
 ],
 "metadata": {
  "kernelspec": {
   "display_name": "Python 3",
   "language": "python",
   "name": "python3"
  },
  "language_info": {
   "codemirror_mode": {
    "name": "ipython",
    "version": 3
   },
   "file_extension": ".py",
   "mimetype": "text/x-python",
   "name": "python",
   "nbconvert_exporter": "python",
   "pygments_lexer": "ipython3",
   "version": "3.5.2"
  }
 },
 "nbformat": 4,
 "nbformat_minor": 2
}
